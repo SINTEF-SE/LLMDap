{
 "cells": [
  {
   "cell_type": "code",
   "execution_count": 1,
   "metadata": {},
   "outputs": [],
   "source": [
    "study_type_terms = ['efo_0002768', 'efo_0002761', 'efo_0003738', 'efo_0000749',\n",
    "       'efo_0002767', \n",
    "       #'efo_0002692', \n",
    "       'efo_0000753', 'efo_0003737',\n",
    "       'efo_0002759', 'efo_0002693', 'efo_0007045', 'efo_0002762',\n",
    "       'efo_0005684', 'efo_0002760', 'efo_0004428', 'efo_0002765',\n",
    "       'efo_0002769', \n",
    "       #'efo_0000747', \n",
    "       'efo_0005310', \n",
    "       #'efo_0003143',\n",
    "       'efo_0002771', 'efo_0001030', 'efo_0002896', 'efo_0004160',\n",
    "       'efo_0001033', 'efo_0007690', 'efo_0002764', 'efo_0003751',\n",
    "       'efo_0003749', 'efo_0008891', 'efo_0009653', 'efo_0002766',\n",
    "       'efo_0003753', 'efo_0005517', 'efo_0007693', 'efo_0030005',\n",
    "       'efo_0007691', 'efo_0001031', 'efo_0010891', 'efo_0002770',\n",
    "       'efo_0005227', \n",
    "       #'efo_0008994'\n",
    "        ]\n",
    "study_type_terms = [string.replace(\"efo\", \"EFO\") for string in study_type_terms]"
   ]
  },
  {
   "cell_type": "code",
   "execution_count": 2,
   "metadata": {},
   "outputs": [
    {
     "data": {
      "text/plain": [
       "get_ontology(\"http://www.ebi.ac.uk/efo/efo.owl#\")"
      ]
     },
     "execution_count": 2,
     "metadata": {},
     "output_type": "execute_result"
    }
   ],
   "source": [
    "import owlready2 as o2\n",
    "\n",
    "file = 'efo.owl'\n",
    "onto = o2.get_ontology(file)\n",
    "onto.load()"
   ]
  },
  {
   "cell_type": "code",
   "execution_count": 6,
   "metadata": {},
   "outputs": [],
   "source": [
    "class O2_LeastCommonAncestor:\n",
    "    def __init__(self, onto):\n",
    "        self.onto = onto\n",
    "        self.prefix = \"http://www.ebi.ac.uk/efo/\"\n",
    "\n",
    "    def set_terms_to_include(self, terms_to_include):\n",
    "        self.set_terms_to_include = terms_to_include\n",
    "\n",
    "    def iterate_from(self, node_str=None):\n",
    "        if node_str is None:\n",
    "            node_str = self.set_terms_to_include[0]\n",
    "        node_obj = self.onto.search_one(iri = self.prefix+node_str)\n",
    "        ancestors = node_obj.ancestors()\n",
    "        solutions = []\n",
    "        for node in ancestors:\n",
    "            D = node.descendants() # set of all descendants, as node objs.\n",
    "            D = [d.name for d in D] # list of all descentant strings\n",
    "            if set(self.set_terms_to_include) <= set(D): # if subset, i.e. node is common anestor:\n",
    "                solutions.append((node, len(D)))\n",
    "        solutions = sorted(solutions, key = lambda x: x[1])\n",
    "        print(\"all commmon ancestors:\", [(s[0].label, s[1]) for s in solutions])\n",
    "        self.lca = solutions[0]"
   ]
  },
  {
   "cell_type": "code",
   "execution_count": 7,
   "metadata": {},
   "outputs": [
    {
     "name": "stdout",
     "output_type": "stream",
     "text": [
      "all commmon ancestors: [(['assay by instrument'], 149), (['assay', locstr('assay', 'en')], 596), (['experimental process'], 804), (['planned process'], 854), (['process'], 1941), (['experimental factor'], 51414), ([], 57807)]\n",
      "(efo.EFO_0002773, 149)\n"
     ]
    }
   ],
   "source": [
    "lca = O2_LeastCommonAncestor(onto)\n",
    "lca.set_terms_to_include(study_type_terms)\n",
    "lca.iterate_from()\n",
    "print(lca.lca)"
   ]
  },
  {
   "cell_type": "code",
   "execution_count": 8,
   "metadata": {},
   "outputs": [
    {
     "name": "stdout",
     "output_type": "stream",
     "text": [
      "desc.\toverlap\tancs.\tname\tsubnode under assay\n",
      "1 \t 0 \t 6 \t ['transcription profiling by array'] EFO_0002768\n",
      "\t\t\t\t ['assay by array']\n",
      "3 \t 0 \t 7 \t ['methylation profiling by high throughput sequencing'] EFO_0002761\n",
      "\t\t\t\t ['assay by sequencer']\n",
      "2 \t 1 \t 8 \t ['RNA-seq of coding RNA'] EFO_0003738\n",
      "\t\t\t\t ['assay by sequencer']\n",
      "1 \t 0 \t 5 \t ['comparative genomic hybridization by array'] EFO_0000749\n",
      "\t\t\t\t ['assay by array']\n",
      "1 \t 0 \t 6 \t ['genotyping by array'] EFO_0002767\n",
      "\t\t\t\t ['assay by array']\n",
      "1 \t 0 \t 5 \t ['microRNA profiling by array'] EFO_0000753\n",
      "\t\t\t\t ['assay by array']\n",
      "3 \t 1 \t 8 \t ['RNA-seq of non coding RNA'] EFO_0003737\n",
      "\t\t\t\t ['assay by sequencer']\n",
      "1 \t 0 \t 6 \t ['methylation profiling by array'] EFO_0002759\n",
      "\t\t\t\t ['assay by array']\n",
      "10 \t 2 \t 6 \t ['DNA-seq'] EFO_0002693\n",
      "\t\t\t\t ['assay by sequencer']\n",
      "8 \t 1 \t 8 \t ['ATAC-seq'] EFO_0007045\n",
      "\t\t\t\t ['assay by sequencer']\n",
      "1 \t 0 \t 7 \t ['ChIP-chip by tiling array'] EFO_0002762\n",
      "\t\t\t\t ['assay by array']\n",
      "1 \t 0 \t 11 \t ['RNA-seq of coding RNA from single cells'] EFO_0005684\n",
      "\t\t\t\t ['assay by sequencer']\n",
      "1 \t 0 \t 7 \t ['ChIP-chip by array'] EFO_0002760\n",
      "\t\t\t\t ['assay by array']\n",
      "1 \t 0 \t 5 \t ['FAIRE-seq'] EFO_0004428\n",
      "\t\t\t\t ['assay by sequencer']\n",
      "1 \t 0 \t 6 \t ['proteomic profiling by array'] EFO_0002765\n",
      "\t\t\t\t ['assay by array']\n",
      "1 \t 0 \t 6 \t ['transcription profiling by tiling array'] EFO_0002769\n",
      "\t\t\t\t ['assay by array']\n",
      "1 \t 0 \t 6 \t ['RIP-seq'] EFO_0005310\n",
      "\t\t\t\t ['assay by sequencer']\n",
      "2 \t 0 \t 7 \t ['genotyping by high throughput sequencing'] EFO_0002771\n",
      "\t\t\t\t ['assay by sequencer']\n",
      "1 \t 0 \t 5 \t ['RNAi profiling by array'] EFO_0001030\n",
      "\t\t\t\t ['assay by array']\n",
      "1 \t 0 \t 9 \t ['microRNA profiling by high throughput sequencing'] EFO_0002896\n",
      "\t\t\t\t ['assay by sequencer']\n",
      "1 \t 0 \t 6 \t ['whole chromosome random sequencing'] EFO_0004160\n",
      "\t\t\t\t ['assay by sequencer']\n",
      "1 \t 0 \t 5 \t ['translation profiling'] EFO_0001033\n",
      "\t\t\t\t ['assay by array']\n",
      "3 \t 0 \t 7 \t ['4C'] EFO_0007690\n",
      "\t\t\t\t ['assay by array']\n",
      "1 \t 0 \t 7 \t ['ChIP-chip by SNP array'] EFO_0002764\n",
      "\t\t\t\t ['assay by array']\n",
      "1 \t 0 \t 5 \t ['MNase-seq'] EFO_0003751\n",
      "\t\t\t\t ['assay by sequencer']\n",
      "1 \t 0 \t 6 \t ['MeDIP-seq'] EFO_0003749\n",
      "\t\t\t\t ['assay by sequencer']\n",
      "1 \t 0 \t 5 \t ['Ribo-seq'] EFO_0008891\n",
      "\t\t\t\t ['assay by sequencer']\n",
      "1 \t 0 \t 8 \t ['RNA-seq of total RNA'] EFO_0009653\n",
      "\t\t\t\t ['assay by sequencer']\n",
      "2 \t 0 \t 6 \t ['proteomic profiling by mass spectrometer'] EFO_0002766\n",
      "\t\t\t\t ['assay by mass spectrometry']\n",
      "1 \t 0 \t 5 \t ['Bisulfite-seq'] EFO_0003753\n",
      "\t\t\t\t ['assay by sequencer']\n",
      "1 \t 0 \t 6 \t ['RIP-Chip by array'] EFO_0005517\n",
      "\t\t\t\t ['assay by array']\n",
      "10 \t 0 \t 7 \t ['Hi-C'] EFO_0007693\n",
      "\t\t\t\t ['assay by sequencer']\n",
      "9 \t 0 \t 7 \t ['spatial transcriptomics by high-throughput sequencing'] EFO_0030005\n",
      "\t\t\t\t ['assay by sequencer']\n",
      "1 \t 0 \t 6 \t ['Capture-C'] EFO_0007691\n",
      "\t\t\t\t ['assay by sequencer']\n",
      "1 \t 0 \t 5 \t ['tiling path by array'] EFO_0001031\n",
      "\t\t\t\t ['assay by array']\n",
      "6 \t 0 \t 10 \t ['scATAC-seq'] EFO_0010891\n",
      "\t\t\t\t ['assay by sequencer']\n",
      "12 \t 5 \t 7 \t ['transcription profiling by high throughput sequencing'] EFO_0002770\n",
      "\t\t\t\t ['assay by sequencer']\n",
      "1 \t 0 \t 5 \t ['GRO-seq'] EFO_0005227\n",
      "\t\t\t\t ['assay by sequencer']\n"
     ]
    }
   ],
   "source": [
    "# print some nubers ++\n",
    "\n",
    "print(\"desc.\\toverlap\\tancs.\\tname\\tsubnode under assay\")\n",
    "for node_str in study_type_terms:\n",
    "    node = onto.search_one(iri = \"http://www.ebi.ac.uk/efo/\"+node_str)\n",
    "    D = node.descendants()\n",
    "    overlap = -1 # do exclude self\n",
    "    for d in D:\n",
    "        if d.name in study_type_terms:\n",
    "            overlap += 1\n",
    "    print(len(node.descendants()),\"\\t\", overlap, \"\\t\", len(node.ancestors())-len(lca.lca[0].ancestors())+1, \"\\t\", node.label, node.name)\n",
    "    internal_ancestors = []\n",
    "    for a in node.ancestors():\n",
    "        if lca.lca[0] in a.ancestors():\n",
    "            internal_ancestors.append((a, len(a.ancestors())))\n",
    "    internal_ancestors = sorted(internal_ancestors, key = lambda x : x[1])\n",
    "    print(\"\\t\\t\\t\\t\", internal_ancestors[1][0].label)"
   ]
  },
  {
   "cell_type": "code",
   "execution_count": 11,
   "metadata": {},
   "outputs": [
    {
     "name": "stdout",
     "output_type": "stream",
     "text": [
      "['GRO-seq'] ['GRO-seq or Genomic run-on sequencing or sometimes Global run-on sequencing is a sequencing assay based on traditional nuclear run-on assays, but instead of looking at a few loci at a time, this is a high-throughput method that allows for the calculation of transcription rates of all genes across the genome. Please note that the starting materials for sequencing are RNAs, not genomic DNA because nascent transcripts are studied.']\n",
      "\n"
     ]
    }
   ],
   "source": [
    "for d in node.descendants():\n",
    "    print(d.label, d.IAO_0000115)\n",
    "    print(\"\")"
   ]
  },
  {
   "cell_type": "code",
   "execution_count": 12,
   "metadata": {},
   "outputs": [
    {
     "data": {
      "text/plain": [
       "['GRO-seq or Genomic run-on sequencing or sometimes Global run-on sequencing is a sequencing assay based on traditional nuclear run-on assays, but instead of looking at a few loci at a time, this is a high-throughput method that allows for the calculation of transcription rates of all genes across the genome. Please note that the starting materials for sequencing are RNAs, not genomic DNA because nascent transcripts are studied.']"
      ]
     },
     "execution_count": 12,
     "metadata": {},
     "output_type": "execute_result"
    }
   ],
   "source": [
    "node.IAO_0000115"
   ]
  },
  {
   "cell_type": "code",
   "execution_count": 9,
   "metadata": {},
   "outputs": [
    {
     "name": "stdout",
     "output_type": "stream",
     "text": [
      "all commmon ancestors: [(['neoplastic sample'], 5), (['abnormal sample'], 6), (['material sample'], 8), (['case control design'], 8), (['specimen', locstr('specimen', 'en')], 23), (['biological variation design'], 38), (['study design'], 64), (['protocol', locstr('protocol', 'en')], 117), (['information entity'], 8694), (['material entity'], 14234), (['experimental factor'], 51414), ([], 57807)]\n",
      "all commmon ancestors: [(['abnormal sample'], 6), (['material sample'], 8), (['case control design'], 8), (['specimen', locstr('specimen', 'en')], 23), (['biological variation design'], 38), (['study design'], 64), (['protocol', locstr('protocol', 'en')], 117), (['information entity'], 8694), (['material entity'], 14234), (['experimental factor'], 51414), ([], 57807)]\n"
     ]
    }
   ],
   "source": [
    "# Check that lca works as supposed\n",
    "\n",
    "lca = O2_LeastCommonAncestor(onto)\n",
    "lca.set_terms_to_include([\"EFO_0030035\", \"EFO_0010941\"])\n",
    "lca.iterate_from()\n",
    "\n",
    "lca = O2_LeastCommonAncestor(onto)\n",
    "lca.set_terms_to_include([\"EFO_0030035\", \"EFO_0010941\", \"EFO_0009655\"])\n",
    "lca.iterate_from()\n"
   ]
  }
 ],
 "metadata": {
  "kernelspec": {
   "display_name": "Python 3.9.0 ('onto')",
   "language": "python",
   "name": "python3"
  },
  "language_info": {
   "codemirror_mode": {
    "name": "ipython",
    "version": 3
   },
   "file_extension": ".py",
   "mimetype": "text/x-python",
   "name": "python",
   "nbconvert_exporter": "python",
   "pygments_lexer": "ipython3",
   "version": "3.9.0"
  },
  "orig_nbformat": 4,
  "vscode": {
   "interpreter": {
    "hash": "10ef912fc6c871eeab02c78be1088c3be9f6871672f27f9f2a7633d38ff9f16a"
   }
  }
 },
 "nbformat": 4,
 "nbformat_minor": 2
}
